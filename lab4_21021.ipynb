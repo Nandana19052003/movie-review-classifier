{
  "nbformat": 4,
  "nbformat_minor": 0,
  "metadata": {
    "colab": {
      "provenance": []
    },
    "kernelspec": {
      "name": "python3",
      "display_name": "Python 3"
    },
    "language_info": {
      "name": "python"
    }
  },
  "cells": [
    {
      "cell_type": "code",
      "execution_count": 1,
      "metadata": {
        "id": "1i2B4cOsrlwA"
      },
      "outputs": [],
      "source": [
        "# Import necessary libraries\n",
        "import numpy as np\n",
        "import pandas as pd\n",
        "from sklearn.model_selection import train_test_split\n",
        "from sklearn.feature_extraction.text import TfidfVectorizer\n",
        "from sklearn.naive_bayes import MultinomialNB\n",
        "from sklearn.tree import DecisionTreeClassifier\n",
        "from sklearn.svm import LinearSVC\n",
        "from sklearn.ensemble import RandomForestClassifier\n",
        "from sklearn.metrics import accuracy_score, classification_report"
      ]
    },
    {
      "cell_type": "code",
      "source": [
        "import csv\n",
        "import pandas as pd\n",
        "\n",
        "# Open the CSV file and skip problematic rows\n",
        "rows = []\n",
        "with open(\"/content/imdb_rating.csv\", \"r\", encoding=\"utf-8\") as file:\n",
        "    csv_reader = csv.reader(file)\n",
        "    for row in csv_reader:\n",
        "        rows.append(row)\n",
        "\n",
        "# Convert the list of rows into a DataFrame\n",
        "data = pd.DataFrame(rows[1:], columns=rows[0])\n"
      ],
      "metadata": {
        "id": "oZySC9tXtEkg"
      },
      "execution_count": 4,
      "outputs": []
    },
    {
      "cell_type": "code",
      "source": [
        "print(data.head())\n"
      ],
      "metadata": {
        "colab": {
          "base_uri": "https://localhost:8080/"
        },
        "id": "rdyyLJpAvJeM",
        "outputId": "1d26b6b4-094b-458d-bba6-3c957cc89a71"
      },
      "execution_count": 5,
      "outputs": [
        {
          "output_type": "stream",
          "name": "stdout",
          "text": [
            "                                              Review Rating Sentiment\n",
            "0  Kurt Russell's chameleon-like performance, cou...     10         1\n",
            "1  It was extremely low budget(it some scenes it ...      8         1\n",
            "2  James Cagney is best known for his tough chara...      8         1\n",
            "3  Following the brilliant \"Goyôkiba\" (aka. \"Hanz...      8         1\n",
            "4  One of the last classics of the French New Wav...     10         1\n"
          ]
        }
      ]
    },
    {
      "cell_type": "code",
      "source": [
        "# Preprocess the text data\n",
        "vectorizer = TfidfVectorizer(max_features=5000, stop_words='english')"
      ],
      "metadata": {
        "id": "l54o7R0_wG5S"
      },
      "execution_count": 6,
      "outputs": []
    },
    {
      "cell_type": "code",
      "source": [
        "# max_features limits the number of unique words in the vocabulary to speed up computation\n",
        "# stop_words removes common English words that don't carry much meaning\n",
        "X = vectorizer.fit_transform(data['Review'])  # Adjust column name if needed\n",
        "y = data['Sentiment']"
      ],
      "metadata": {
        "id": "0u5pH_CLwJdX"
      },
      "execution_count": 9,
      "outputs": []
    },
    {
      "cell_type": "code",
      "source": [
        "# Split the data into training and testing sets\n",
        "X_train, X_test, y_train, y_test = train_test_split(X, y, test_size=0.2, random_state=42)"
      ],
      "metadata": {
        "id": "0bs-RaJ9wcvC"
      },
      "execution_count": 10,
      "outputs": []
    },
    {
      "cell_type": "code",
      "source": [
        "# Initialize classifiers\n",
        "classifiers = {\n",
        "    'Naive Bayes': MultinomialNB(),\n",
        "    'Decision Tree': DecisionTreeClassifier(),\n",
        "    'Linear SVM': LinearSVC(),\n",
        "    'Random Forest': RandomForestClassifier(n_estimators=100)\n",
        "}"
      ],
      "metadata": {
        "id": "dQNIosetwgq4"
      },
      "execution_count": 11,
      "outputs": []
    },
    {
      "cell_type": "code",
      "source": [
        "# Convert X_train and X_test from sparse matrix to DataFrame\n",
        "X_train_df = pd.DataFrame.sparse.from_spmatrix(X_train)\n",
        "X_test_df = pd.DataFrame.sparse.from_spmatrix(X_test)"
      ],
      "metadata": {
        "id": "rkiaM7HbwjXB"
      },
      "execution_count": 14,
      "outputs": []
    },
    {
      "cell_type": "code",
      "source": [
        "# Check for missing values in X_train and y_train\n",
        "print(\"Missing values in X_train:\", X_train_df.isnull().sum())\n",
        "print(\"Missing values in y_train:\", y_train.isnull().sum())"
      ],
      "metadata": {
        "colab": {
          "base_uri": "https://localhost:8080/"
        },
        "id": "DWKIGIgbwxwm",
        "outputId": "e76a7ebe-051f-438d-f036-a9d62f4be552"
      },
      "execution_count": 15,
      "outputs": [
        {
          "output_type": "stream",
          "name": "stdout",
          "text": [
            "Missing values in X_train: 0       0\n",
            "1       0\n",
            "2       0\n",
            "3       0\n",
            "4       0\n",
            "       ..\n",
            "4995    0\n",
            "4996    0\n",
            "4997    0\n",
            "4998    0\n",
            "4999    0\n",
            "Length: 5000, dtype: int64\n",
            "Missing values in y_train: 1\n"
          ]
        }
      ]
    },
    {
      "cell_type": "code",
      "source": [
        "# Find the index of the row with missing value in y_train\n",
        "missing_value_index = y_train[y_train.isnull()].index\n",
        "print(\"Missing value index:\", missing_value_index)\n",
        "\n"
      ],
      "metadata": {
        "colab": {
          "base_uri": "https://localhost:8080/"
        },
        "id": "-qQCZniUw0E8",
        "outputId": "e37e6304-9b8a-47c8-f236-134385699e4d"
      },
      "execution_count": 23,
      "outputs": [
        {
          "output_type": "stream",
          "name": "stdout",
          "text": [
            "Missing value index: Index([], dtype='int64')\n"
          ]
        }
      ]
    },
    {
      "cell_type": "code",
      "source": [
        "print(\"Missing value index:\", missing_value_index)\n"
      ],
      "metadata": {
        "colab": {
          "base_uri": "https://localhost:8080/"
        },
        "id": "j1sZYJ3Kw5pY",
        "outputId": "ee3f436c-7887-44e7-d801-79b43d484b7b"
      },
      "execution_count": 22,
      "outputs": [
        {
          "output_type": "stream",
          "name": "stdout",
          "text": [
            "Missing value index: 44430\n"
          ]
        }
      ]
    },
    {
      "cell_type": "code",
      "source": [
        "print(\"Size of X_train:\", X_train.shape[0])\n",
        "print(\"Size of y_train:\", y_train.shape[0])\n"
      ],
      "metadata": {
        "colab": {
          "base_uri": "https://localhost:8080/"
        },
        "id": "gn7CLy0BxFwy",
        "outputId": "4edb8e1e-cad9-4e0a-fb27-0d9fd8172ea6"
      },
      "execution_count": 24,
      "outputs": [
        {
          "output_type": "stream",
          "name": "stdout",
          "text": [
            "Size of X_train: 35544\n",
            "Size of y_train: 35543\n"
          ]
        }
      ]
    },
    {
      "cell_type": "code",
      "source": [
        "from scipy import sparse\n",
        "\n",
        "# Convert X_train to a dense array for slicing\n",
        "X_train_dense = X_train.toarray()\n",
        "\n",
        "# Remove the extra sample from X_train_dense\n",
        "X_train_dense = np.delete(X_train_dense, missing_value_index, axis=0)\n",
        "\n",
        "# Convert X_train_dense back to a sparse matrix\n",
        "X_train = sparse.csr_matrix(X_train_dense)\n",
        "\n"
      ],
      "metadata": {
        "id": "ec9wxoKgxgXT"
      },
      "execution_count": 27,
      "outputs": []
    },
    {
      "cell_type": "code",
      "source": [
        "# Remove the corresponding label from y_train\n",
        "y_train = y_train.drop(y_train.index[missing_value_index])\n"
      ],
      "metadata": {
        "id": "1F3hvrhvxhfw"
      },
      "execution_count": 31,
      "outputs": []
    },
    {
      "cell_type": "code",
      "source": [
        "print(\"Size of X_train:\", X_train.shape[0])\n",
        "print(\"Size of y_train:\", y_train.shape[0])\n"
      ],
      "metadata": {
        "colab": {
          "base_uri": "https://localhost:8080/"
        },
        "id": "8MtAzCXCyFVZ",
        "outputId": "b79aebc4-796b-41f2-b146-777aaf9369bc"
      },
      "execution_count": 33,
      "outputs": [
        {
          "output_type": "stream",
          "name": "stdout",
          "text": [
            "Size of X_train: 35544\n",
            "Size of y_train: 35543\n"
          ]
        }
      ]
    },
    {
      "cell_type": "code",
      "source": [
        "print(\"Indices of X_train:\", np.arange(X_train.shape[0]))\n",
        "print(\"Indices of y_train:\", y_train.index)\n"
      ],
      "metadata": {
        "colab": {
          "base_uri": "https://localhost:8080/"
        },
        "id": "6siriCJ-yPUa",
        "outputId": "04b0951b-4bad-4387-dc3f-5745c704db2c"
      },
      "execution_count": 34,
      "outputs": [
        {
          "output_type": "stream",
          "name": "stdout",
          "text": [
            "Indices of X_train: [    0     1     2 ... 35541 35542 35543]\n",
            "Indices of y_train: Index([29807, 43183, 33497, 38982, 10648,  7759, 34430,  6870, 33059,  5041,\n",
            "       ...\n",
            "       16023, 44131, 21962, 37194, 16850,  6265, 11284, 38158,   860, 15795],\n",
            "      dtype='int64', length=35543)\n"
          ]
        }
      ]
    },
    {
      "cell_type": "code",
      "source": [
        "X_train = X_train[:-1]\n"
      ],
      "metadata": {
        "id": "8ZVBDUi_yTpe"
      },
      "execution_count": 35,
      "outputs": []
    },
    {
      "cell_type": "code",
      "source": [
        "print(\"Size of X_train:\", X_train.shape[0])\n",
        "print(\"Size of y_train:\", y_train.shape[0])\n"
      ],
      "metadata": {
        "colab": {
          "base_uri": "https://localhost:8080/"
        },
        "id": "hUG80DG8yYOs",
        "outputId": "84879f02-51b9-4066-8942-7b6357698c05"
      },
      "execution_count": 37,
      "outputs": [
        {
          "output_type": "stream",
          "name": "stdout",
          "text": [
            "Size of X_train: 35543\n",
            "Size of y_train: 35543\n"
          ]
        }
      ]
    },
    {
      "cell_type": "code",
      "source": [
        "# Calculate precision with pos_label='1'\n",
        "precision = precision_score(y_test, y_pred, pos_label='1')\n",
        "\n"
      ],
      "metadata": {
        "id": "VL9bZ96kycUV"
      },
      "execution_count": 40,
      "outputs": []
    },
    {
      "cell_type": "code",
      "source": [
        "from sklearn.metrics import accuracy_score, precision_score, recall_score, f1_score\n",
        "\n",
        "# Train and evaluate classifiers\n",
        "for name, clf in classifiers.items():\n",
        "    # Train the classifier\n",
        "    clf.fit(X_train, y_train)\n",
        "\n",
        "    # Predict on the testing data\n",
        "    y_pred = clf.predict(X_test)\n",
        "\n",
        "    # Calculate performance metrics\n",
        "    accuracy = accuracy_score(y_test, y_pred)\n",
        "    precision = precision_score(y_test, y_pred, pos_label='1')\n",
        "    recall = recall_score(y_test, y_pred, pos_label='1')\n",
        "    f1 = f1_score(y_test, y_pred, pos_label='1')\n",
        "\n",
        "    # Print classifier name and performance metrics\n",
        "    print(f\"Classifier: {name}\")\n",
        "    print(f\"Accuracy: {accuracy:.2f}\")\n",
        "    print(f\"Precision: {precision:.2f}\")\n",
        "    print(f\"Recall: {recall:.2f}\")\n",
        "    print(f\"F1-score: {f1:.2f}\")\n",
        "    print(\"=\"*60)\n"
      ],
      "metadata": {
        "colab": {
          "base_uri": "https://localhost:8080/"
        },
        "id": "JnkN1SYVytBg",
        "outputId": "72edc6b3-7c86-49d4-ea89-8170dc16a95b"
      },
      "execution_count": 43,
      "outputs": [
        {
          "output_type": "stream",
          "name": "stdout",
          "text": [
            "Classifier: Naive Bayes\n",
            "Accuracy: 0.79\n",
            "Precision: 0.74\n",
            "Recall: 0.96\n",
            "F1-score: 0.84\n",
            "============================================================\n",
            "Classifier: Decision Tree\n",
            "Accuracy: 0.59\n",
            "Precision: 0.63\n",
            "Recall: 0.63\n",
            "F1-score: 0.63\n",
            "============================================================\n",
            "Classifier: Linear SVM\n",
            "Accuracy: 0.72\n",
            "Precision: 0.73\n",
            "Recall: 0.80\n",
            "F1-score: 0.76\n",
            "============================================================\n",
            "Classifier: Random Forest\n",
            "Accuracy: 0.79\n",
            "Precision: 0.77\n",
            "Recall: 0.90\n",
            "F1-score: 0.83\n",
            "============================================================\n"
          ]
        }
      ]
    },
    {
      "cell_type": "code",
      "source": [
        "import matplotlib.pyplot as plt\n",
        "\n",
        "# Define classifiers and corresponding performance metrics\n",
        "classifiers = ['Naive Bayes', 'Decision Tree', 'Linear SVM', 'Random Forest']\n",
        "accuracy = [0.79, 0.59, 0.72, 0.79]\n",
        "precision = [0.74, 0.63, 0.73, 0.77]\n",
        "recall = [0.96, 0.63, 0.80, 0.90]\n",
        "f1_score = [0.84, 0.63, 0.76, 0.83]\n",
        "\n",
        "# Plot bar plots for each performance metric\n",
        "plt.figure(figsize=(12, 8))\n",
        "\n",
        "# Accuracy\n",
        "plt.subplot(2, 2, 1)\n",
        "plt.bar(classifiers, accuracy, color='skyblue')\n",
        "plt.title('Accuracy')\n",
        "plt.ylim(0, 1)\n",
        "\n",
        "# Precision\n",
        "plt.subplot(2, 2, 2)\n",
        "plt.bar(classifiers, precision, color='lightgreen')\n",
        "plt.title('Precision')\n",
        "plt.ylim(0, 1)\n",
        "\n",
        "# Recall\n",
        "plt.subplot(2, 2, 3)\n",
        "plt.bar(classifiers, recall, color='salmon')\n",
        "plt.title('Recall')\n",
        "plt.ylim(0, 1)\n",
        "\n",
        "# F1-score\n",
        "plt.subplot(2, 2, 4)\n",
        "plt.bar(classifiers, f1_score, color='lightcoral')\n",
        "plt.title('F1-score')\n",
        "plt.ylim(0, 1)\n",
        "\n",
        "plt.tight_layout()\n",
        "plt.show()\n"
      ],
      "metadata": {
        "colab": {
          "base_uri": "https://localhost:8080/",
          "height": 807
        },
        "id": "EZLVabcm0Iti",
        "outputId": "02ac6ec4-5a18-405e-df30-0d9f81cd8095"
      },
      "execution_count": 46,
      "outputs": [
        {
          "output_type": "display_data",
          "data": {
            "text/plain": [
              "<Figure size 1200x800 with 4 Axes>"
            ],
            "image/png": "[encoded data removed]"
          },
          "metadata": {}
        }
      ]
    }
  ]
}